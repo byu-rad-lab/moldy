{
 "cells": [
  {
   "cell_type": "markdown",
   "metadata": {},
   "source": [
    "#### SYS ID: Finding the params"
   ]
  },
  {
   "cell_type": "code",
   "execution_count": 2,
   "metadata": {},
   "outputs": [
    {
     "name": "stderr",
     "output_type": "stream",
     "text": [
      "/home/student/.local/lib/python3.8/site-packages/tqdm/auto.py:21: TqdmWarning: IProgress not found. Please update jupyter and ipywidgets. See https://ipywidgets.readthedocs.io/en/stable/user_install.html\n",
      "  from .autonotebook import tqdm as notebook_tqdm\n",
      "2024-03-21 12:52:31,038\tINFO util.py:154 -- Missing packages: ['ipywidgets']. Run `pip install -U ipywidgets`, then restart the notebook server for rich notebook output.\n",
      "2024-03-21 12:52:31,117\tINFO util.py:154 -- Missing packages: ['ipywidgets']. Run `pip install -U ipywidgets`, then restart the notebook server for rich notebook output.\n"
     ]
    }
   ],
   "source": [
    "from moldy.case_studies.grub_sim.model.grub_sim_sys_id_wrapper import GrubSimSysIdWrapper\n",
    "from lmfit import Model, Parameter\n",
    "import numpy as np\n",
    "import pandas as pd\n",
    "import matplotlib.pyplot as plt\n",
    "\n",
    "grub_model = GrubSimSysIdWrapper()"
   ]
  },
  {
   "cell_type": "code",
   "execution_count": 4,
   "metadata": {},
   "outputs": [],
   "source": [
    "#%% import the data\n",
    "# file_path = \"/home/student/catkin_ws/src/data/10_min_data/nempc_grub_hw_10_min_Dataset/nempc_grub_hw_10_min_Dataset.csv\"\n",
    "file_path = \"/home/student/catkin_ws/src/data/5_min_data/nempc_grub_hw_5_min_Dataset/nempc_grub_hw_5_min_Dataset.csv\"\n",
    "\n",
    "data_df = pd.read_csv(file_path)\n",
    "time = data_df[\"time\"].to_numpy().reshape((-1,1))\n",
    "u = data_df[\"u\"].to_numpy().reshape((-1,1))\n",
    "v = data_df[\"v\"].to_numpy().reshape((-1,1))\n",
    "udot = data_df[\"u_dot\"].to_numpy().reshape((-1,1))\n",
    "vdot = data_df[\"v_dot\"].to_numpy().reshape((-1,1))\n",
    "uddot = data_df[\"u_ddot\"].to_numpy().reshape((-1,1))\n",
    "vddot = data_df[\"v_ddot\"].to_numpy().reshape((-1,1))\n",
    "p0 = data_df[\"p0\"].to_numpy().reshape((-1,1))\n",
    "p1 = data_df[\"p1\"].to_numpy().reshape((-1,1))\n",
    "p2 = data_df[\"p2\"].to_numpy().reshape((-1,1))\n",
    "p3 = data_df[\"p3\"].to_numpy().reshape((-1,1))\n",
    "p0dot = data_df[\"p0_dot\"].to_numpy().reshape((-1,1))\n",
    "p1dot = data_df[\"p1_dot\"].to_numpy().reshape((-1,1))\n",
    "p2dot = data_df[\"p2_dot\"].to_numpy().reshape((-1,1))\n",
    "p3dot = data_df[\"p3_dot\"].to_numpy().reshape((-1,1))\n",
    "pc0 = data_df[\"pc0\"].to_numpy().reshape((-1,1))\n",
    "pc1 = data_df[\"pc1\"].to_numpy().reshape((-1,1))\n",
    "pc2 = data_df[\"pc2\"].to_numpy().reshape((-1,1))\n",
    "pc3 = data_df[\"pc3\"].to_numpy().reshape((-1,1))"
   ]
  },
  {
   "cell_type": "code",
   "execution_count": 5,
   "metadata": {},
   "outputs": [
    {
     "name": "stdout",
     "output_type": "stream",
     "text": [
      "Size of x: (30144, 8)\n",
      "Size of xdot: (30144, 8)\n",
      "Size of u: (30144, 4)\n"
     ]
    }
   ],
   "source": [
    "#%% Define state and input vectors \n",
    "x_truth = np.hstack((p0, p1, p2, p3, udot, vdot, u, v))\n",
    "xdot_truth = np.hstack((p0dot, p1dot, p2dot, p3dot, uddot, vddot, udot, vdot)) \n",
    "# xdot_truth = grub_model.scale_xdot(xdot_truth) #scaled -1 to 1\n",
    "\n",
    "u = np.hstack((pc0, pc1, pc2, pc3))\n",
    "\n",
    "print(f'Size of x: {np.shape(x_truth)}')\n",
    "print(f'Size of xdot: {np.shape(xdot_truth)}')\n",
    "print(f'Size of u: {np.shape(u)}')"
   ]
  },
  {
   "cell_type": "code",
   "execution_count": 6,
   "metadata": {},
   "outputs": [
    {
     "name": "stdout",
     "output_type": "stream",
     "text": [
      "Parameters to Optimize: ['stiffness', 'damping', 'alpha']\n",
      "Independent Variables: ['x', 'u']\n",
      "\n",
      "\n",
      "Max vals: {'stiffness': 50, 'damping': 50, 'alpha': 50}\n",
      "Min vals: {'stiffness': 0, 'damping': 0, 'alpha': 1}\n"
     ]
    }
   ],
   "source": [
    "# create the fitting model\n",
    "model = Model(grub_model.curvefit_wrapper, independent_vars=['x', 'u'])\n",
    "\n",
    "print(f'Parameters to Optimize: {model.param_names}')\n",
    "print(f'Independent Variables: {model.independent_vars}')\n",
    "\n",
    "print(f'\\n\\nMax vals: {grub_model.max_vals}')\n",
    "print(f'Min vals: {grub_model.min_vals}')"
   ]
  },
  {
   "cell_type": "code",
   "execution_count": 7,
   "metadata": {},
   "outputs": [
    {
     "name": "stdout",
     "output_type": "stream",
     "text": [
      "Run 0 R^2 value: -2.5363514030671443\n"
     ]
    }
   ],
   "source": [
    "#%% Run the fit on the model\n",
    "numStarts = 1\n",
    "nonlinear_fit = [None]*numStarts\n",
    "\n",
    "for i in range(numStarts):\n",
    "    start_val = np.random.uniform(-1, 1, 6)\n",
    "    nonlinear_fit[i] = model.fit(\n",
    "        xdot_truth, x=x_truth, u=u,\n",
    "        # normalized parameters to find. \n",
    "        stiffness=Parameter('stiffness', value=start_val[0], min=-1, max=1),\n",
    "        damping=Parameter('damping', value=start_val[1], min=-1, max=1),\n",
    "        alpha=Parameter('alpha', value=start_val[2], min=-1, max=1),\n",
    "        method=\"least_squares\",\n",
    "    )    \n",
    "    print(f\"Run {i} R^2 value: {nonlinear_fit[i].rsquared}\")\n",
    "     "
   ]
  },
  {
   "cell_type": "code",
   "execution_count": 8,
   "metadata": {},
   "outputs": [
    {
     "name": "stdout",
     "output_type": "stream",
     "text": [
      "scaled params for run = 0: {'stiffness': -0.4372490845664074, 'damping': -0.8906989827477998, 'alpha': -0.9242563743610844}\n",
      "Unscaled Params for run = 0: {'stiffness': 14.068772885839815, 'damping': 2.732525431305005, 'alpha': 2.8557188281534316}\n"
     ]
    }
   ],
   "source": [
    "#%% Unscale the params\n",
    "for i in range(numStarts):\n",
    "    scaled_params = {'stiffness': nonlinear_fit[i].params['stiffness'].value, 'damping':nonlinear_fit[i].params['damping'].value, 'alpha':nonlinear_fit[i].params['alpha'].value}\n",
    "    print(f'scaled params for run = {i}: {scaled_params}')\n",
    "for i in range(numStarts):\n",
    "    unscaled_params = grub_model.unscale_params(scaled_params)\n",
    "    print(f'Unscaled Params for run = {i}: {unscaled_params}')"
   ]
  },
  {
   "cell_type": "markdown",
   "metadata": {},
   "source": [
    "#### SYS ID: Validating control performance"
   ]
  },
  {
   "cell_type": "code",
   "execution_count": 9,
   "metadata": {},
   "outputs": [],
   "source": [
    "# functions for saving sim data to a csv\n",
    "def save_to_csv(x_history, u_history, horizon, sim_time, file_path):\n",
    "    \"\"\"\n",
    "    This function saves the simulated data to a csv file\n",
    "    \"\"\"\n",
    "    time = np.linspace(0, sim_time, horizon) #.reshape((-1,1))\n",
    "    p0 = x_history[:,0]\n",
    "    p1 = x_history[:,1]\n",
    "    p2 = x_history[:,2]\n",
    "    p3 = x_history[:,3]\n",
    "    u_dot = x_history[:,4]\n",
    "    v_dot = x_history[:,5]\n",
    "    u = x_history[:,6]\n",
    "    v = x_history[:,7]\n",
    "\n",
    "    pc0 = u_history[:,0]\n",
    "    pc1 = u_history[:,1]\n",
    "    pc2 = u_history[:,2]\n",
    "    pc3 = u_history[:,3]\n",
    "\n",
    "    # dirty derivative ok? Since there isn't any noise in this data\n",
    "    p0_dot, p1_dot, p2_dot, p3_dot = dirty_derivative_pressures(time, p0, p1, p2, p3)\n",
    "    u_ddot, v_ddot = dirty_derivative_bend_angles(time, u_dot, v_dot)\n",
    "\n",
    "    df = pd.DataFrame({\n",
    "    'time': time, 'p0': p0,'p1': p1,'p2': p2,'p3': p3,'u_dot': u_dot,'v_dot': v_dot,\n",
    "    'u': u,'v': v,'pc0': pc0,'pc1': pc1,'pc2': pc2,'pc3': pc3,'p0_dot': p0_dot,'p1_dot': p1_dot,'p2_dot': p2_dot,'p3_dot': p3_dot,\n",
    "    'u_ddot': u_ddot,'v_ddot': v_ddot\n",
    "    })\n",
    "    \n",
    "    print(f'shape of df: {np.shape(df)}')\n",
    "    print(f'df columns: {df.columns}')\n",
    "\n",
    "    df.to_csv(file_path, index=False)\n",
    "\n",
    "\n",
    "def dirty_derivative_pressures(pressure_t, p0, p1, p2, p3):\n",
    "    \"\"\"\n",
    "    This function calculates the dirty derivative of the pressures, only needed for saving the data to a csv\n",
    "    \"\"\"\n",
    "    sigma = 0.001\n",
    "    dataset_size = p0.shape[0]\n",
    "\n",
    "    p0_dot = np.zeros((dataset_size))\n",
    "    p1_dot = np.zeros((dataset_size))\n",
    "    p2_dot = np.zeros((dataset_size))\n",
    "    p3_dot = np.zeros((dataset_size))\n",
    "\n",
    "    for i in range(1, dataset_size):\n",
    "        Ts  = (pressure_t[i] - pressure_t[i-1])\n",
    "        denom = (2*sigma + Ts)\n",
    "        beta = ((2*sigma - Ts) / denom)\n",
    "        p0_dot[i] = (beta * p0_dot[i-1]) + (2 / denom) * (p0[i] - p0[i-1])\n",
    "        p1_dot[i] = (beta * p1_dot[i-1]) + (2 / denom) * (p1[i] - p1[i-1])\n",
    "        p2_dot[i] = (beta * p2_dot[i-1]) + (2 / denom) * (p2[i] - p2[i-1])\n",
    "        p3_dot[i] = (beta * p3_dot[i-1]) + (2 / denom) * (p3[i] - p3[i-1])\n",
    "\n",
    "    return p0_dot, p1_dot, p2_dot, p3_dot\n",
    "\n",
    "def dirty_derivative_bend_angles(t, udot, vdot):\n",
    "    \"\"\"\n",
    "    This function calculates the dirty derivative of the bend angles, only needed for saving the data to a csv\n",
    "    \"\"\"\n",
    "    sigma = 0.001\n",
    "    dataset_size = udot.shape[0]\n",
    "\n",
    "    uddot = np.zeros((dataset_size))\n",
    "    vddot = np.zeros((dataset_size))\n",
    "\n",
    "    for i in range(1, dataset_size):\n",
    "        Ts  = (t[i] - t[i-1])\n",
    "        denom = (2*sigma + Ts)\n",
    "        beta = ((2*sigma - Ts) / denom)\n",
    "        uddot[i] = (beta * uddot[i-1]) + (2 / denom) * (udot[i] - udot[i-1])\n",
    "        vddot[i] = (beta * vddot[i-1]) + (2 / denom) * (vdot[i] - vdot[i-1])\n",
    "\n",
    "    return uddot, vddot"
   ]
  },
  {
   "cell_type": "markdown",
   "metadata": {},
   "source": [
    "Run the sim"
   ]
  },
  {
   "cell_type": "code",
   "execution_count": 10,
   "metadata": {},
   "outputs": [
    {
     "name": "stdout",
     "output_type": "stream",
     "text": [
      "IAE: \n",
      " [5444.22259475 7117.64864258 5245.99405801 5473.2889056   211.65140492\n",
      "  175.5822833    98.76007359  165.06680635]\n"
     ]
    }
   ],
   "source": [
    "save_to_csv = False # set to true if you want to save sim data to csv\n",
    "save_path = ''\n",
    "\n",
    "#---------------------------------------- run sim-----------------------------------------------\n",
    "#set params \n",
    "optimal_scaled_params = scaled_params #TODO: update this with your choice of scaled params\n",
    "grub_model.set_params(optimal_scaled_params)\n",
    "\n",
    "num_points = 1000 #specify number of data points to simulate #18000-1 #1000 \n",
    "dt = time[1] - time[0]\n",
    "sim_time = time[num_points] - time[0]\n",
    "horizon = int(sim_time / dt)\n",
    "\n",
    "# set initial x\n",
    "x_sim = np.zeros((horizon, grub_model.numStates)) \n",
    "x = x_truth[0,:].reshape((1, grub_model.numStates))\n",
    "\n",
    "fig = plt.figure()\n",
    "ax = fig.add_subplot(projection=\"3d\")\n",
    "plt.ion()\n",
    "grub_model.visualize(x, ax)\n",
    "\n",
    "for i in range(0, horizon):\n",
    "    x = grub_model.forward_simulate_dt(x, u[i,:], dt)\n",
    "    x_sim[i, :] = x.flatten()\n",
    "\n",
    "    if i % 5 == 0:\n",
    "        grub_model.visualize(x, ax)\n",
    "\n",
    "AE = np.abs(x_sim - x_truth[0:num_points,:])  \n",
    "IAE = AE.sum(axis=0)\n",
    "print(f'IAE: \\n {IAE}')\n",
    "\n",
    "x_labels = ['p0', 'p1', 'p2', 'p3', 'u_dot', 'v_dot', 'u', 'v']\n",
    "u_labels = ['pc0', 'pc1', 'pc2', 'pc3']\n",
    "grub_model.plot_history(x_sim, u[0:horizon,:], x_truth[0:horizon,:], x_labels, u_labels, block=False)\n",
    "\n",
    "if save_to_csv:\n",
    "    print('saving sim data to csv')\n",
    "    save_to_csv(x_sim, u, horizon, sim_time, save_path)"
   ]
  }
 ],
 "metadata": {
  "kernelspec": {
   "display_name": "Python 3",
   "language": "python",
   "name": "python3"
  },
  "language_info": {
   "codemirror_mode": {
    "name": "ipython",
    "version": 3
   },
   "file_extension": ".py",
   "mimetype": "text/x-python",
   "name": "python",
   "nbconvert_exporter": "python",
   "pygments_lexer": "ipython3",
   "version": "3.8.10"
  }
 },
 "nbformat": 4,
 "nbformat_minor": 2
}
