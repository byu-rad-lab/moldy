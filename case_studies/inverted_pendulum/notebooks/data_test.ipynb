{
 "cells": [
  {
   "cell_type": "code",
   "execution_count": 4,
   "metadata": {},
   "outputs": [
    {
     "name": "stdout",
     "output_type": "stream",
     "text": [
      "train_input.shape: (4000, 3)\n",
      "train_output.shape: (4000, 2)\n",
      "validation_input.shape: (1000, 3)\n",
      "validation_output.shape: (1000, 2)\n"
     ]
    }
   ],
   "source": [
    "import numpy as np\n",
    "\n",
    "train_input = np.load(\"/home/daniel/catkin_ws/src/moldy/case_studies/inverted_pendulum/data/train_inputdata.npy\")\n",
    "train_output = np.load(\"/home/daniel/catkin_ws/src/moldy/case_studies/inverted_pendulum/data/train_outputdata.npy\")\n",
    "validation_input = np.load(\"/home/daniel/catkin_ws/src/moldy/case_studies/inverted_pendulum/data/validation_inputdata.npy\")\n",
    "validation_output = np.load(\"/home/daniel/catkin_ws/src/moldy/case_studies/inverted_pendulum/data/validation_outputdata.npy\")\n",
    "\n",
    "print(f\"train_input.shape: {train_input.shape}\")\n",
    "print(f\"train_output.shape: {train_output.shape}\")\n",
    "print(f\"validation_input.shape: {validation_input.shape}\")\n",
    "print(f\"validation_output.shape: {validation_output.shape}\")"
   ]
  },
  {
   "cell_type": "code",
   "execution_count": 5,
   "metadata": {},
   "outputs": [
    {
     "name": "stdout",
     "output_type": "stream",
     "text": [
      "train_input[0]: [-0.67681295 -1.          0.        ]\n",
      "train_output[0]: [ 0.00015379 -0.03383558]\n",
      "validation_input[0]: [-0.67681295 -1.          0.        ]\n",
      "validation_output[0]: [ 0.00015379 -0.03383558]\n"
     ]
    }
   ],
   "source": [
    "print(f\"train_input[0]: {train_input[0]}\")\n",
    "print(f\"train_output[0]: {train_output[0]}\")\n",
    "print(f\"validation_input[0]: {validation_input[0]}\")\n",
    "print(f\"validation_output[0]: {validation_output[0]}\")"
   ]
  },
  {
   "cell_type": "code",
   "execution_count": 6,
   "metadata": {},
   "outputs": [
    {
     "name": "stdout",
     "output_type": "stream",
     "text": [
      "Max train_input: [-0.40332684 -1.          0.        ]\n",
      "Min train_input: [-0.67681295 -1.         -1.        ]\n",
      "Max train_output: [ 0.00015379 -0.0201679 ]\n",
      "Min train_output: [-0.00019147 -0.03383558]\n",
      "Max validation_input: [-0.5394417 -1.         0.       ]\n",
      "Min validation_input: [-0.67681295 -1.          0.        ]\n",
      "Max validation_output: [ 0.00015379 -0.02696805]\n",
      "Min validation_output: [ 0.00012241 -0.03383558]\n"
     ]
    }
   ],
   "source": [
    "print(f\"Max train_input: {np.max(train_input, axis=0)}\")\n",
    "print(f\"Min train_input: {np.min(train_input, axis=0)}\")\n",
    "print(f\"Max train_output: {np.max(train_output, axis=0)}\")\n",
    "print(f\"Min train_output: {np.min(train_output, axis=0)}\")\n",
    "print(f\"Max validation_input: {np.max(validation_input, axis=0)}\")\n",
    "print(f\"Min validation_input: {np.min(validation_input, axis=0)}\")\n",
    "print(f\"Max validation_output: {np.max(validation_output, axis=0)}\")\n",
    "print(f\"Min validation_output: {np.min(validation_output, axis=0)}\")"
   ]
  },
  {
   "cell_type": "code",
   "execution_count": 7,
   "metadata": {},
   "outputs": [
    {
     "name": "stdout",
     "output_type": "stream",
     "text": [
      "Mean train_input: [-0.49968097 -1.         -0.29      ]\n",
      "Mean train_output: [ 3.132599e-05 -2.498235e-02]\n",
      "Mean validation_input: [-0.60551995 -1.          0.        ]\n",
      "Mean validation_output: [ 0.00013749 -0.03027146]\n"
     ]
    }
   ],
   "source": [
    "print(f\"Mean train_input: {np.mean(train_input, axis=0)}\")\n",
    "print(f\"Mean train_output: {np.mean(train_output, axis=0)}\")\n",
    "print(f\"Mean validation_input: {np.mean(validation_input, axis=0)}\")\n",
    "print(f\"Mean validation_output: {np.mean(validation_output, axis=0)}\")\n"
   ]
  },
  {
   "cell_type": "code",
   "execution_count": 11,
   "metadata": {},
   "outputs": [
    {
     "name": "stdout",
     "output_type": "stream",
     "text": [
      "[[ 0.        ]\n",
      " [-3.14159265]]\n"
     ]
    }
   ],
   "source": [
    "from moldy.src.inverted_pendulum.model_and_control.model_ip import InvertedPendulum\n",
    "\n",
    "ip = InvertedPendulum()\n",
    "\n",
    "x0 = ip.generate_random_state(True)\n",
    "\n",
    "print(x0)"
   ]
  },
  {
   "cell_type": "code",
   "execution_count": 12,
   "metadata": {},
   "outputs": [
    {
     "data": {
      "text/plain": [
       "[<matplotlib.lines.Line2D at 0x7f5ce0908700>]"
      ]
     },
     "execution_count": 12,
     "metadata": {},
     "output_type": "execute_result"
    },
    {
     "data": {
      "image/png": "[encoded data removed]",
      "text/plain": [
       "<Figure size 640x480 with 1 Axes>"
      ]
     },
     "metadata": {},
     "output_type": "display_data"
    }
   ],
   "source": [
    "xs = np.zeros((1000, 2))\n",
    "x0 = np.array([0.0, 0.0]).reshape(-1,1)\n",
    "for i in range(1000):\n",
    "    x0 = ip.forward_simulate_dt(x0, 1.0, 0.01)\n",
    "    xs[i] = x0.flatten()\n",
    "\n",
    "import matplotlib.pyplot as plt\n",
    "\n",
    "plt.plot(xs[:, 0])\n",
    "plt.plot(xs[:, 1])"
   ]
  }
 ],
 "metadata": {
  "kernelspec": {
   "display_name": "Python 3",
   "language": "python",
   "name": "python3"
  },
  "language_info": {
   "codemirror_mode": {
    "name": "ipython",
    "version": 3
   },
   "file_extension": ".py",
   "mimetype": "text/x-python",
   "name": "python",
   "nbconvert_exporter": "python",
   "pygments_lexer": "ipython3",
   "version": "3.8.10"
  },
  "orig_nbformat": 4
 },
 "nbformat": 4,
 "nbformat_minor": 2
}
