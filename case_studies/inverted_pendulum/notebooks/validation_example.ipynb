{
 "cells": [
  {
   "cell_type": "code",
   "execution_count": 1,
   "metadata": {},
   "outputs": [
    {
     "ename": "KeyboardInterrupt",
     "evalue": "",
     "output_type": "error",
     "traceback": [
      "\u001b[0;31m---------------------------------------------------------------------------\u001b[0m",
      "\u001b[0;31mKeyboardInterrupt\u001b[0m                         Traceback (most recent call last)",
      "Cell \u001b[0;32mIn[1], line 1\u001b[0m\n\u001b[0;32m----> 1\u001b[0m \u001b[38;5;28;01mfrom\u001b[39;00m \u001b[38;5;21;01mmoldy\u001b[39;00m\u001b[38;5;21;01m.\u001b[39;00m\u001b[38;5;21;01mcase_studies\u001b[39;00m\u001b[38;5;21;01m.\u001b[39;00m\u001b[38;5;21;01minverted_pendulum\u001b[39;00m\u001b[38;5;21;01m.\u001b[39;00m\u001b[38;5;21;01mnempc_ip\u001b[39;00m \u001b[38;5;28;01mimport\u001b[39;00m nempc_ip_setup\n\u001b[1;32m      2\u001b[0m \u001b[38;5;28;01mfrom\u001b[39;00m \u001b[38;5;21;01mmoldy\u001b[39;00m\u001b[38;5;21;01m.\u001b[39;00m\u001b[38;5;21;01mcase_studies\u001b[39;00m\u001b[38;5;21;01m.\u001b[39;00m\u001b[38;5;21;01minverted_pendulum\u001b[39;00m\u001b[38;5;21;01m.\u001b[39;00m\u001b[38;5;21;01mmodel_ip\u001b[39;00m \u001b[38;5;28;01mimport\u001b[39;00m InvertedPendulum\n\u001b[1;32m      3\u001b[0m \u001b[38;5;28;01mfrom\u001b[39;00m \u001b[38;5;21;01mmoldy\u001b[39;00m\u001b[38;5;21;01m.\u001b[39;00m\u001b[38;5;21;01mvalidation\u001b[39;00m\u001b[38;5;21;01m.\u001b[39;00m\u001b[38;5;21;01mcontrol\u001b[39;00m\u001b[38;5;21;01m.\u001b[39;00m\u001b[38;5;21;01mcontrol_test\u001b[39;00m \u001b[38;5;28;01mimport\u001b[39;00m ControlTest\n",
      "File \u001b[0;32m~/catkin_ws/src/moldy/case_studies/inverted_pendulum/nempc_ip.py:2\u001b[0m\n\u001b[1;32m      1\u001b[0m \u001b[38;5;28;01mimport\u001b[39;00m \u001b[38;5;21;01mnumpy\u001b[39;00m \u001b[38;5;28;01mas\u001b[39;00m \u001b[38;5;21;01mnp\u001b[39;00m\n\u001b[0;32m----> 2\u001b[0m \u001b[38;5;28;01mimport\u001b[39;00m \u001b[38;5;21;01mtorch\u001b[39;00m\n\u001b[1;32m      3\u001b[0m \u001b[38;5;28;01mfrom\u001b[39;00m \u001b[38;5;21;01mtyping\u001b[39;00m \u001b[38;5;28;01mimport\u001b[39;00m Tuple, Union\n\u001b[1;32m      5\u001b[0m \u001b[38;5;28;01mfrom\u001b[39;00m \u001b[38;5;21;01mmoldy\u001b[39;00m\u001b[38;5;21;01m.\u001b[39;00m\u001b[38;5;21;01mvalidation\u001b[39;00m\u001b[38;5;21;01m.\u001b[39;00m\u001b[38;5;21;01mcontrol\u001b[39;00m\u001b[38;5;21;01m.\u001b[39;00m\u001b[38;5;21;01mnempc\u001b[39;00m\u001b[38;5;21;01m.\u001b[39;00m\u001b[38;5;21;01mNonlinearEMPC\u001b[39;00m \u001b[38;5;28;01mimport\u001b[39;00m NonlinearEMPC \u001b[38;5;28;01mas\u001b[39;00m NEMPC\n",
      "File \u001b[0;32m~/.local/lib/python3.8/site-packages/torch/__init__.py:1726\u001b[0m\n\u001b[1;32m   1721\u001b[0m         backend \u001b[38;5;241m=\u001b[39m _TorchCompileWrapper(backend, mode, options, dynamic)\n\u001b[1;32m   1723\u001b[0m     \u001b[38;5;28;01mreturn\u001b[39;00m torch\u001b[38;5;241m.\u001b[39m_dynamo\u001b[38;5;241m.\u001b[39moptimize(backend\u001b[38;5;241m=\u001b[39mbackend, nopython\u001b[38;5;241m=\u001b[39mfullgraph, dynamic\u001b[38;5;241m=\u001b[39mdynamic, disable\u001b[38;5;241m=\u001b[39mdisable)(model)\n\u001b[0;32m-> 1726\u001b[0m \u001b[38;5;28;01mfrom\u001b[39;00m \u001b[38;5;21;01mtorch\u001b[39;00m \u001b[38;5;28;01mimport\u001b[39;00m export \u001b[38;5;28;01mas\u001b[39;00m export\n\u001b[1;32m   1729\u001b[0m \u001b[38;5;28;01mdef\u001b[39;00m \u001b[38;5;21m_register_device_module\u001b[39m(device_type, module):\n\u001b[1;32m   1730\u001b[0m     \u001b[38;5;124mr\u001b[39m\u001b[38;5;124;03m\"\"\"Register an external runtime module of the specific :attr:`device_type`\u001b[39;00m\n\u001b[1;32m   1731\u001b[0m \u001b[38;5;124;03m    supported by torch.\u001b[39;00m\n\u001b[1;32m   1732\u001b[0m \n\u001b[1;32m   1733\u001b[0m \u001b[38;5;124;03m    After the :attr:`module` is registered correctly, the user can refer\u001b[39;00m\n\u001b[1;32m   1734\u001b[0m \u001b[38;5;124;03m    the external runtime module as part of torch with attribute torch.xxx.\u001b[39;00m\n\u001b[1;32m   1735\u001b[0m \u001b[38;5;124;03m    \"\"\"\u001b[39;00m\n",
      "File \u001b[0;32m~/.local/lib/python3.8/site-packages/torch/export/__init__.py:18\u001b[0m\n\u001b[1;32m     14\u001b[0m \u001b[38;5;28;01mfrom\u001b[39;00m \u001b[38;5;21;01mtorch\u001b[39;00m\u001b[38;5;21;01m.\u001b[39;00m\u001b[38;5;21;01mfx\u001b[39;00m\u001b[38;5;21;01m.\u001b[39;00m\u001b[38;5;21;01m_compatibility\u001b[39;00m \u001b[38;5;28;01mimport\u001b[39;00m compatibility\n\u001b[1;32m     16\u001b[0m \u001b[38;5;28;01mfrom\u001b[39;00m \u001b[38;5;21;01mtorch\u001b[39;00m\u001b[38;5;21;01m.\u001b[39;00m\u001b[38;5;21;01mfx\u001b[39;00m\u001b[38;5;21;01m.\u001b[39;00m\u001b[38;5;21;01mexperimental\u001b[39;00m\u001b[38;5;21;01m.\u001b[39;00m\u001b[38;5;21;01msymbolic_shapes\u001b[39;00m \u001b[38;5;28;01mimport\u001b[39;00m StrictMinMaxConstraint\n\u001b[0;32m---> 18\u001b[0m \u001b[38;5;28;01mfrom\u001b[39;00m \u001b[38;5;21;01mtorch\u001b[39;00m\u001b[38;5;21;01m.\u001b[39;00m\u001b[38;5;21;01mfx\u001b[39;00m\u001b[38;5;21;01m.\u001b[39;00m\u001b[38;5;21;01mpasses\u001b[39;00m\u001b[38;5;21;01m.\u001b[39;00m\u001b[38;5;21;01minfra\u001b[39;00m\u001b[38;5;21;01m.\u001b[39;00m\u001b[38;5;21;01mpass_base\u001b[39;00m \u001b[38;5;28;01mimport\u001b[39;00m PassResult\n\u001b[1;32m     19\u001b[0m \u001b[38;5;28;01mfrom\u001b[39;00m \u001b[38;5;21;01mtorch\u001b[39;00m\u001b[38;5;21;01m.\u001b[39;00m\u001b[38;5;21;01mfx\u001b[39;00m\u001b[38;5;21;01m.\u001b[39;00m\u001b[38;5;21;01mpasses\u001b[39;00m\u001b[38;5;21;01m.\u001b[39;00m\u001b[38;5;21;01minfra\u001b[39;00m\u001b[38;5;21;01m.\u001b[39;00m\u001b[38;5;21;01mpass_manager\u001b[39;00m \u001b[38;5;28;01mimport\u001b[39;00m PassManager\n\u001b[1;32m     22\u001b[0m __all__ \u001b[38;5;241m=\u001b[39m [\n\u001b[1;32m     23\u001b[0m     \u001b[38;5;124m\"\u001b[39m\u001b[38;5;124mArgumentKind\u001b[39m\u001b[38;5;124m\"\u001b[39m,\n\u001b[1;32m     24\u001b[0m     \u001b[38;5;124m\"\u001b[39m\u001b[38;5;124mArgumentSpec\u001b[39m\u001b[38;5;124m\"\u001b[39m,\n\u001b[0;32m   (...)\u001b[0m\n\u001b[1;32m     36\u001b[0m     \u001b[38;5;124m\"\u001b[39m\u001b[38;5;124msave\u001b[39m\u001b[38;5;124m\"\u001b[39m,\n\u001b[1;32m     37\u001b[0m ]\n",
      "File \u001b[0;32m~/.local/lib/python3.8/site-packages/torch/fx/passes/__init__.py:1\u001b[0m\n\u001b[0;32m----> 1\u001b[0m \u001b[38;5;28;01mfrom\u001b[39;00m \u001b[38;5;21;01m.\u001b[39;00m \u001b[38;5;28;01mimport\u001b[39;00m graph_drawer\n\u001b[1;32m      2\u001b[0m \u001b[38;5;28;01mfrom\u001b[39;00m \u001b[38;5;21;01m.\u001b[39;00m \u001b[38;5;28;01mimport\u001b[39;00m graph_manipulation\n\u001b[1;32m      3\u001b[0m \u001b[38;5;28;01mfrom\u001b[39;00m \u001b[38;5;21;01m.\u001b[39;00m \u001b[38;5;28;01mimport\u001b[39;00m net_min_base\n",
      "File \u001b[0;32m~/.local/lib/python3.8/site-packages/torch/fx/passes/graph_drawer.py:7\u001b[0m\n\u001b[1;32m      5\u001b[0m \u001b[38;5;28;01mfrom\u001b[39;00m \u001b[38;5;21;01mtyping\u001b[39;00m \u001b[38;5;28;01mimport\u001b[39;00m Dict, Any, TYPE_CHECKING\n\u001b[1;32m      6\u001b[0m \u001b[38;5;28;01mfrom\u001b[39;00m \u001b[38;5;21;01mtorch\u001b[39;00m\u001b[38;5;21;01m.\u001b[39;00m\u001b[38;5;21;01mfx\u001b[39;00m\u001b[38;5;21;01m.\u001b[39;00m\u001b[38;5;21;01mnode\u001b[39;00m \u001b[38;5;28;01mimport\u001b[39;00m _get_qualified_name, _format_arg\n\u001b[0;32m----> 7\u001b[0m \u001b[38;5;28;01mfrom\u001b[39;00m \u001b[38;5;21;01mtorch\u001b[39;00m\u001b[38;5;21;01m.\u001b[39;00m\u001b[38;5;21;01mfx\u001b[39;00m\u001b[38;5;21;01m.\u001b[39;00m\u001b[38;5;21;01mpasses\u001b[39;00m\u001b[38;5;21;01m.\u001b[39;00m\u001b[38;5;21;01mshape_prop\u001b[39;00m \u001b[38;5;28;01mimport\u001b[39;00m TensorMetadata\n\u001b[1;32m      8\u001b[0m \u001b[38;5;28;01mfrom\u001b[39;00m \u001b[38;5;21;01mtorch\u001b[39;00m\u001b[38;5;21;01m.\u001b[39;00m\u001b[38;5;21;01mfx\u001b[39;00m\u001b[38;5;21;01m.\u001b[39;00m\u001b[38;5;21;01m_compatibility\u001b[39;00m \u001b[38;5;28;01mimport\u001b[39;00m compatibility\n\u001b[1;32m      9\u001b[0m \u001b[38;5;28;01mfrom\u001b[39;00m \u001b[38;5;21;01mitertools\u001b[39;00m \u001b[38;5;28;01mimport\u001b[39;00m chain\n",
      "File \u001b[0;32m~/.local/lib/python3.8/site-packages/torch/fx/passes/shape_prop.py:14\u001b[0m\n\u001b[1;32m      9\u001b[0m \u001b[38;5;28;01mfrom\u001b[39;00m \u001b[38;5;21;01mtorch\u001b[39;00m\u001b[38;5;21;01m.\u001b[39;00m\u001b[38;5;21;01m_guards\u001b[39;00m \u001b[38;5;28;01mimport\u001b[39;00m detect_fake_mode\n\u001b[1;32m     11\u001b[0m __all__ \u001b[38;5;241m=\u001b[39m [\u001b[38;5;124m'\u001b[39m\u001b[38;5;124mTensorMetadata\u001b[39m\u001b[38;5;124m'\u001b[39m, \u001b[38;5;124m'\u001b[39m\u001b[38;5;124mShapeProp\u001b[39m\u001b[38;5;124m'\u001b[39m]\n\u001b[1;32m     13\u001b[0m \u001b[38;5;129m@compatibility\u001b[39m(is_backward_compatible\u001b[38;5;241m=\u001b[39m\u001b[38;5;28;01mTrue\u001b[39;00m)\n\u001b[0;32m---> 14\u001b[0m \u001b[38;5;28;01mclass\u001b[39;00m \u001b[38;5;21;01mTensorMetadata\u001b[39;00m(NamedTuple):\n\u001b[1;32m     15\u001b[0m     \u001b[38;5;66;03m# TensorMetadata is a structure containing pertinent information\u001b[39;00m\n\u001b[1;32m     16\u001b[0m     \u001b[38;5;66;03m# about a tensor within a PyTorch program.\u001b[39;00m\n\u001b[1;32m     17\u001b[0m \n\u001b[1;32m     18\u001b[0m     \u001b[38;5;66;03m# General Tensor metadata\u001b[39;00m\n\u001b[1;32m     19\u001b[0m     shape : torch\u001b[38;5;241m.\u001b[39mSize\n\u001b[1;32m     20\u001b[0m     dtype : torch\u001b[38;5;241m.\u001b[39mdtype\n",
      "File \u001b[0;32m/usr/lib/python3.8/typing.py:1619\u001b[0m, in \u001b[0;36mNamedTupleMeta.__new__\u001b[0;34m(cls, typename, bases, ns)\u001b[0m\n\u001b[1;32m   1617\u001b[0m     \u001b[38;5;28;01mreturn\u001b[39;00m \u001b[38;5;28msuper\u001b[39m()\u001b[38;5;241m.\u001b[39m\u001b[38;5;21m__new__\u001b[39m(\u001b[38;5;28mcls\u001b[39m, typename, bases, ns)\n\u001b[1;32m   1618\u001b[0m types \u001b[38;5;241m=\u001b[39m ns\u001b[38;5;241m.\u001b[39mget(\u001b[38;5;124m'\u001b[39m\u001b[38;5;124m__annotations__\u001b[39m\u001b[38;5;124m'\u001b[39m, {})\n\u001b[0;32m-> 1619\u001b[0m nm_tpl \u001b[38;5;241m=\u001b[39m \u001b[43m_make_nmtuple\u001b[49m\u001b[43m(\u001b[49m\u001b[43mtypename\u001b[49m\u001b[43m,\u001b[49m\u001b[43m \u001b[49m\u001b[43mtypes\u001b[49m\u001b[38;5;241;43m.\u001b[39;49m\u001b[43mitems\u001b[49m\u001b[43m(\u001b[49m\u001b[43m)\u001b[49m\u001b[43m)\u001b[49m\n\u001b[1;32m   1620\u001b[0m defaults \u001b[38;5;241m=\u001b[39m []\n\u001b[1;32m   1621\u001b[0m defaults_dict \u001b[38;5;241m=\u001b[39m {}\n",
      "File \u001b[0;32m/usr/lib/python3.8/typing.py:1594\u001b[0m, in \u001b[0;36m_make_nmtuple\u001b[0;34m(name, types)\u001b[0m\n\u001b[1;32m   1592\u001b[0m msg \u001b[38;5;241m=\u001b[39m \u001b[38;5;124m\"\u001b[39m\u001b[38;5;124mNamedTuple(\u001b[39m\u001b[38;5;124m'\u001b[39m\u001b[38;5;124mName\u001b[39m\u001b[38;5;124m'\u001b[39m\u001b[38;5;124m, [(f0, t0), (f1, t1), ...]); each t must be a type\u001b[39m\u001b[38;5;124m\"\u001b[39m\n\u001b[1;32m   1593\u001b[0m types \u001b[38;5;241m=\u001b[39m [(n, _type_check(t, msg)) \u001b[38;5;28;01mfor\u001b[39;00m n, t \u001b[38;5;129;01min\u001b[39;00m types]\n\u001b[0;32m-> 1594\u001b[0m nm_tpl \u001b[38;5;241m=\u001b[39m \u001b[43mcollections\u001b[49m\u001b[38;5;241;43m.\u001b[39;49m\u001b[43mnamedtuple\u001b[49m\u001b[43m(\u001b[49m\u001b[43mname\u001b[49m\u001b[43m,\u001b[49m\u001b[43m \u001b[49m\u001b[43m[\u001b[49m\u001b[43mn\u001b[49m\u001b[43m \u001b[49m\u001b[38;5;28;43;01mfor\u001b[39;49;00m\u001b[43m \u001b[49m\u001b[43mn\u001b[49m\u001b[43m,\u001b[49m\u001b[43m \u001b[49m\u001b[43mt\u001b[49m\u001b[43m \u001b[49m\u001b[38;5;129;43;01min\u001b[39;49;00m\u001b[43m \u001b[49m\u001b[43mtypes\u001b[49m\u001b[43m]\u001b[49m\u001b[43m)\u001b[49m\n\u001b[1;32m   1595\u001b[0m \u001b[38;5;66;03m# Prior to PEP 526, only _field_types attribute was assigned.\u001b[39;00m\n\u001b[1;32m   1596\u001b[0m \u001b[38;5;66;03m# Now __annotations__ are used and _field_types is deprecated (remove in 3.9)\u001b[39;00m\n\u001b[1;32m   1597\u001b[0m nm_tpl\u001b[38;5;241m.\u001b[39m\u001b[38;5;18m__annotations__\u001b[39m \u001b[38;5;241m=\u001b[39m nm_tpl\u001b[38;5;241m.\u001b[39m_field_types \u001b[38;5;241m=\u001b[39m \u001b[38;5;28mdict\u001b[39m(types)\n",
      "File \u001b[0;32m/usr/lib/python3.8/collections/__init__.py:394\u001b[0m, in \u001b[0;36mnamedtuple\u001b[0;34m(typename, field_names, rename, defaults, module)\u001b[0m\n\u001b[1;32m    392\u001b[0m namespace \u001b[38;5;241m=\u001b[39m {\u001b[38;5;124m'\u001b[39m\u001b[38;5;124m_tuple_new\u001b[39m\u001b[38;5;124m'\u001b[39m: tuple_new, \u001b[38;5;124m'\u001b[39m\u001b[38;5;124m__name__\u001b[39m\u001b[38;5;124m'\u001b[39m: \u001b[38;5;124mf\u001b[39m\u001b[38;5;124m'\u001b[39m\u001b[38;5;124mnamedtuple_\u001b[39m\u001b[38;5;132;01m{\u001b[39;00mtypename\u001b[38;5;132;01m}\u001b[39;00m\u001b[38;5;124m'\u001b[39m}\n\u001b[1;32m    393\u001b[0m \u001b[38;5;66;03m# Note: exec() has the side-effect of interning the field names\u001b[39;00m\n\u001b[0;32m--> 394\u001b[0m \u001b[43mexec\u001b[49m\u001b[43m(\u001b[49m\u001b[43ms\u001b[49m\u001b[43m,\u001b[49m\u001b[43m \u001b[49m\u001b[43mnamespace\u001b[49m\u001b[43m)\u001b[49m\n\u001b[1;32m    395\u001b[0m \u001b[38;5;21m__new__\u001b[39m \u001b[38;5;241m=\u001b[39m namespace[\u001b[38;5;124m'\u001b[39m\u001b[38;5;124m__new__\u001b[39m\u001b[38;5;124m'\u001b[39m]\n\u001b[1;32m    396\u001b[0m \u001b[38;5;21m__new__\u001b[39m\u001b[38;5;241m.\u001b[39m\u001b[38;5;18m__doc__\u001b[39m \u001b[38;5;241m=\u001b[39m \u001b[38;5;124mf\u001b[39m\u001b[38;5;124m'\u001b[39m\u001b[38;5;124mCreate new instance of \u001b[39m\u001b[38;5;132;01m{\u001b[39;00mtypename\u001b[38;5;132;01m}\u001b[39;00m\u001b[38;5;124m(\u001b[39m\u001b[38;5;132;01m{\u001b[39;00marg_list\u001b[38;5;132;01m}\u001b[39;00m\u001b[38;5;124m)\u001b[39m\u001b[38;5;124m'\u001b[39m\n",
      "File \u001b[0;32m<string>:1\u001b[0m\n",
      "\u001b[0;31mKeyboardInterrupt\u001b[0m: "
     ]
    }
   ],
   "source": [
    "from moldy.case_studies.inverted_pendulum.nempc_ip import nempc_ip_setup\n",
    "from moldy.case_studies.inverted_pendulum.model_ip import InvertedPendulum\n",
    "from moldy.validation.control.control_test import ControlTest\n",
    "\n",
    "tester = ControlTest(ground_truth=InvertedPendulum(), \n",
    "                    nempc_setup=nempc_ip_setup,\n",
    "                    horizon=50,\n",
    "                    sim_seconds=6.0,\n",
    "                    )\n",
    "\n",
    "tester.run_trials(\"/home/daniel/catkin_ws/src/moldy/case_studies/inverted_pendulum/results/test_results/\",\n",
    "                  \"/home/daniel/catkin_ws/src/moldy/case_studies/inverted_pendulum/results/best_models/\",\n",
    "                  run_analytical=False,\n",
    "                  numSims=500,\n",
    "                  numParents=150,\n",
    "                  numStrangers=50)"
   ]
  },
  {
   "cell_type": "code",
   "execution_count": 3,
   "metadata": {},
   "outputs": [],
   "source": [
    "from moldy.validation.prediction.prediction_validation import PredictionValidation\n",
    "\n",
    "from moldy.case_studies.inverted_pendulum.model_ip import InvertedPendulum\n",
    "from moldy.case_studies.inverted_pendulum.learnedModel_ip import LearnedModel_InvertedPendulum\n",
    "\n",
    "tester = PredictionValidation(LearnedModel_InvertedPendulum, 1000, InvertedPendulum()) #InvertedPendulum(length=1.0, mass=0.2, damping=0.1))\n",
    "result = tester.run_trials(\"/home/daniel/catkin_ws/src/moldy/case_studies/inverted_pendulum/results/run_logs/\",\n",
    "                            \"/home/daniel/catkin_ws/src/moldy/case_studies/inverted_pendulum/results/test_results/\")\n"
   ]
  }
 ],
 "metadata": {
  "kernelspec": {
   "display_name": "Python 3",
   "language": "python",
   "name": "python3"
  },
  "language_info": {
   "codemirror_mode": {
    "name": "ipython",
    "version": 3
   },
   "file_extension": ".py",
   "mimetype": "text/x-python",
   "name": "python",
   "nbconvert_exporter": "python",
   "pygments_lexer": "ipython3",
   "version": "3.8.10"
  }
 },
 "nbformat": 4,
 "nbformat_minor": 2
}
