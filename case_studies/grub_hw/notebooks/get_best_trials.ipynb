{
 "cells": [
  {
   "cell_type": "code",
   "execution_count": 3,
   "metadata": {},
   "outputs": [
    {
     "name": "stdout",
     "output_type": "stream",
     "text": [
      "Prediction_smt_same_mse.csv\n",
      "Prediction_smt_same_cosine.csv\n",
      "Prediction_smt_same_rmse.csv\n",
      "Prediction_smt_same_iae.csv\n",
      "Prediction_smt_same_mae.csv\n",
      "Prediction_smt_same_smooth_L1.csv\n"
     ]
    }
   ],
   "source": [
    "import os\n",
    "import pandas as pd\n",
    "\n",
    "logs_dir = \"/home/daniel/Desktop/Grub_HW_Storage/Prediction_Tests/same_prediction_results/\"\n",
    "\n",
    "final_models = []\n",
    "for file in os.listdir(logs_dir):\n",
    "    best_models = []\n",
    "    if file.startswith(\"Prediction\") and file.endswith(\".csv\"):\n",
    "        print(file)\n",
    "        # open csv file and read all of the lines with pandas\n",
    "        df = pd.read_csv(logs_dir + file)\n",
    "        # order the trials by average_iae_score\n",
    "        df = df.sort_values(by=['average_iae_score'], ascending=True)\n",
    "        #save the top five to best models with trial name and average_iae_score\n",
    "        best_models.append([df.iloc[0]['trial_name'], df.iloc[0]['average_iae_score']])\n",
    "        best_models.append([df.iloc[1]['trial_name'], df.iloc[1]['average_iae_score']])\n",
    "        best_models.append([df.iloc[2]['trial_name'], df.iloc[2]['average_iae_score']])\n",
    "        best_models.append([df.iloc[3]['trial_name'], df.iloc[3]['average_iae_score']])\n",
    "        best_models.append([df.iloc[4]['trial_name'], df.iloc[4]['average_iae_score']])\n",
    "        final_models.append(best_models)\n"
   ]
  },
  {
   "cell_type": "code",
   "execution_count": 9,
   "metadata": {},
   "outputs": [
    {
     "name": "stdout",
     "output_type": "stream",
     "text": [
      "Prediction_smt_opt_mse.csv\n",
      "Prediction_smt_opt_cosine.csv\n",
      "Prediction_smt_opt_smooth_L1.csv\n",
      "Prediction_smt_opt_rmse.csv\n",
      "Prediction_smt_opt_iae.csv\n",
      "Prediction_smt_opt_mae.csv\n"
     ]
    }
   ],
   "source": [
    "import os\n",
    "import pandas as pd\n",
    "\n",
    "logs_dir = \"/home/daniel/Desktop/Grub_HW_Storage/Prediction_Tests/opt_param_prediction_tests_hw/\"\n",
    "\n",
    "opt_final_models = []\n",
    "for file in os.listdir(logs_dir):\n",
    "    best_models = []\n",
    "    if file.startswith(\"Prediction\") and file.endswith(\".csv\"):\n",
    "        print(file)\n",
    "        # open csv file and read all of the lines with pandas\n",
    "        df = pd.read_csv(logs_dir + file)\n",
    "        # order the trials by average_iae_score\n",
    "        df = df.sort_values(by=['average_iae_score'], ascending=True)\n",
    "        #save the top five to best models with trial name and average_iae_score\n",
    "        best_models.append([df.iloc[0]['trial_name']+file, df.iloc[0]['average_iae_score']])\n",
    "        best_models.append([df.iloc[1]['trial_name']+file, df.iloc[1]['average_iae_score']])\n",
    "        best_models.append([df.iloc[2]['trial_name']+file, df.iloc[2]['average_iae_score']])\n",
    "        best_models.append([df.iloc[3]['trial_name']+file, df.iloc[3]['average_iae_score']])\n",
    "        best_models.append([df.iloc[4]['trial_name']+file, df.iloc[4]['average_iae_score']])\n",
    "        opt_final_models.append(best_models)"
   ]
  },
  {
   "cell_type": "code",
   "execution_count": 24,
   "metadata": {},
   "outputs": [
    {
     "name": "stdout",
     "output_type": "stream",
     "text": [
      "[['smooth_L1_1', 838.4562982069623], ['smooth_L1_8', 850.9810209565203], ['smooth_L1_14', 860.4715334143785], ['smooth_L1_4', 881.0109038829175], ['smooth_L1_9', 919.3389042881269]]\n",
      "[['version_19Prediction_smt_opt_smooth_L1.csv', 726.2382967069775], ['version_18Prediction_smt_opt_smooth_L1.csv', 824.6730146248315], ['version_12Prediction_smt_opt_smooth_L1.csv', 873.4383677103897], ['version_6Prediction_smt_opt_smooth_L1.csv', 906.0679329883365], ['version_13Prediction_smt_opt_smooth_L1.csv', 909.4832031709932]]\n"
     ]
    }
   ],
   "source": [
    "print(final_models[5])\n",
    "print(opt_final_models[2])"
   ]
  }
 ],
 "metadata": {
  "kernelspec": {
   "display_name": "Python 3",
   "language": "python",
   "name": "python3"
  },
  "language_info": {
   "codemirror_mode": {
    "name": "ipython",
    "version": 3
   },
   "file_extension": ".py",
   "mimetype": "text/x-python",
   "name": "python",
   "nbconvert_exporter": "python",
   "pygments_lexer": "ipython3",
   "version": "3.8.10"
  }
 },
 "nbformat": 4,
 "nbformat_minor": 2
}
