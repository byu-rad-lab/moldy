{
 "cells": [
  {
   "cell_type": "code",
   "execution_count": 2,
   "metadata": {},
   "outputs": [
    {
     "name": "stdout",
     "output_type": "stream",
     "text": [
      "Average Min Loss Epoch: 28.208\n",
      "125 trials saved to /home/daniel/catkin_ws/src/moldy/case_studies/baloo_sim/results/run_logs/smooth_L1_optimization/smooth_L1_optimization_analysis.csv\n",
      "Average Min Loss Epoch: 16.696\n",
      "125 trials saved to /home/daniel/catkin_ws/src/moldy/case_studies/baloo_sim/results/run_logs/mae_optimization/mae_optimization_analysis.csv\n",
      "Average Min Loss Epoch: 34.136\n",
      "125 trials saved to /home/daniel/catkin_ws/src/moldy/case_studies/baloo_sim/results/run_logs/mse_optimization/mse_optimization_analysis.csv\n",
      "Average Min Loss Epoch: 19.808\n",
      "125 trials saved to /home/daniel/catkin_ws/src/moldy/case_studies/baloo_sim/results/run_logs/rmse_optimization/rmse_optimization_analysis.csv\n"
     ]
    }
   ],
   "source": [
    "from moldy.model.optimize import analyze_optimization\n",
    "\n",
    "path = \"/home/daniel/catkin_ws/src/moldy/case_studies/baloo_sim/results/run_logs/smooth_L1_optimization\"\n",
    "analyze_optimization(path)\n",
    "\n",
    "path = \"/home/daniel/catkin_ws/src/moldy/case_studies/baloo_sim/results/run_logs/mae_optimization\"\n",
    "analyze_optimization(path)\n",
    "\n",
    "path = \"/home/daniel/catkin_ws/src/moldy/case_studies/baloo_sim/results/run_logs/mse_optimization\"\n",
    "analyze_optimization(path)\n",
    "\n",
    "path = \"/home/daniel/catkin_ws/src/moldy/case_studies/baloo_sim/results/run_logs/rmse_optimization\"\n",
    "analyze_optimization(path)"
   ]
  }
 ],
 "metadata": {
  "kernelspec": {
   "display_name": "Python 3",
   "language": "python",
   "name": "python3"
  },
  "language_info": {
   "codemirror_mode": {
    "name": "ipython",
    "version": 3
   },
   "file_extension": ".py",
   "mimetype": "text/x-python",
   "name": "python",
   "nbconvert_exporter": "python",
   "pygments_lexer": "ipython3",
   "version": "3.8.10"
  }
 },
 "nbformat": 4,
 "nbformat_minor": 2
}
