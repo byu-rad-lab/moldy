{
 "cells": [
  {
   "cell_type": "code",
   "execution_count": 2,
   "metadata": {},
   "outputs": [],
   "source": [
    "from moldy.model.DatasetBaseClass import DatasetBaseClass\n",
    "from moldy.case_studies.baloo_sim.model_baloo_sim import BalooSim\n",
    "\n",
    "baloo_config = {\n",
    "    \"data_generation_params\": {\n",
    "        \"type\": \"step\",\n",
    "        \"dataset_size\": 500000,\n",
    "        \"generate_new_data\": False,\n",
    "        \"normalization_method\": \"none\",  # \"min_max\", \"standardized\", \"mean_std\", \"standard\", \"none\"\n",
    "        \"learn_mode\": \"delta_x\",  # \"x\", \"delta_x\"\n",
    "        \"dt\": 0.01,\n",
    "    },\n",
    "    \"path\": f\"/home/daniel/catkin_ws/src/moldy/case_studies/baloo_sim/data/good_data/test_data/\",\n",
    "}\n",
    "\n",
    "baloo_sim = BalooSim(XML_PATH=\"/home/daniel/catkin_ws/src/moldy/case_studies/baloo_sim/model/sys_id_baloo.xml\")"
   ]
  },
  {
   "cell_type": "code",
   "execution_count": 3,
   "metadata": {},
   "outputs": [
    {
     "name": "stdout",
     "output_type": "stream",
     "text": [
      "Could not load data. Will generate new data. Got the following error: [Errno 2] No such file or directory: '/home/daniel/catkin_ws/src/moldy/case_studies/baloo_sim/data/good_data/test_data/data/validation_inputdata.npy'\n"
     ]
    },
    {
     "data": {
      "text/plain": [
       "<moldy.model.DatasetBaseClass.DatasetBaseClass at 0x7fba27e52a60>"
      ]
     },
     "execution_count": 3,
     "metadata": {},
     "output_type": "execute_result"
    }
   ],
   "source": [
    "DatasetBaseClass(baloo_config, baloo_sim, validation=True)"
   ]
  },
  {
   "cell_type": "code",
   "execution_count": 3,
   "metadata": {},
   "outputs": [
    {
     "name": "stdout",
     "output_type": "stream",
     "text": [
      "Could not load data. Will generate new data. Got the following error: [Errno 2] No such file or directory: '/home/daniel/catkin_ws/src/moldy/case_studies/baloo_sim/data/train_inputdata.npy'\n"
     ]
    },
    {
     "data": {
      "text/plain": [
       "<moldy.model.DatasetBaseClass.DatasetBaseClass at 0x7ff3509cd070>"
      ]
     },
     "execution_count": 3,
     "metadata": {},
     "output_type": "execute_result"
    }
   ],
   "source": [
    "DatasetBaseClass(baloo_config, baloo_sim, validation=False)"
   ]
  }
 ],
 "metadata": {
  "kernelspec": {
   "display_name": "Python 3",
   "language": "python",
   "name": "python3"
  },
  "language_info": {
   "codemirror_mode": {
    "name": "ipython",
    "version": 3
   },
   "file_extension": ".py",
   "mimetype": "text/x-python",
   "name": "python",
   "nbconvert_exporter": "python",
   "pygments_lexer": "ipython3",
   "version": "3.8.10"
  }
 },
 "nbformat": 4,
 "nbformat_minor": 2
}
